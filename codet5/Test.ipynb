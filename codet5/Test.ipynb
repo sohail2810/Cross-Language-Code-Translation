{
 "cells": [
  {
   "cell_type": "code",
   "execution_count": 1,
   "id": "5fb9eb51",
   "metadata": {},
   "outputs": [],
   "source": [
    "import os\n",
    "os.environ[\"CUDA_VISIBLE_DEVICES\"]=\"2\"\n",
    "os.environ[\"PYTHONPATH\"]=\"/home/shariff/AVATAR\""
   ]
  },
  {
   "cell_type": "code",
   "execution_count": 2,
   "id": "a9b391b3",
   "metadata": {},
   "outputs": [],
   "source": [
    "!export PYTHONIOENCODING=utf-8\n",
    "!export PYTHONPATH=/home/shariff/AVATAR"
   ]
  },
  {
   "cell_type": "code",
   "execution_count": 3,
   "id": "e057313d",
   "metadata": {},
   "outputs": [],
   "source": [
    "!python3 run_gen.py \\\n",
    "        --do_test \\\n",
    "        --model_type codet5 \\\n",
    "        --config_name Salesforce/codet5-base \\\n",
    "        --tokenizer_name Salesforce/codet5-base \\\n",
    "        --model_name_or_path Salesforce/codet5-base \\\n",
    "        --load_model_path /home/shariff/AVATAR/codet5/program/java2python/checkpoint-best-ppl/pytorch_model.bin \\\n",
    "        --task translate \\\n",
    "        --sub_task \"java-python\" \\\n",
    "        --data_dir /home/shariff/AVATAR/data \\\n",
    "        --cache_path /home/shariff/AVATAR/codet5/program/java2python \\\n",
    "        --output_dir /home/shariff/AVATAR/codet5/program/java2python \\\n",
    "        --res_dir /home/shariff/AVATAR/codet5/program/java2python \\\n",
    "        --max_source_length 510 \\\n",
    "        --max_target_length 510 \\\n",
    "        --beam_size 10 \\\n",
    "        --eval_batch_size 16 \\\n",
    "        2>&1 | tee /home/shariff/AVATAR/codet5/program/java2python/evaluation.log"
   ]
  },
  {
   "cell_type": "code",
   "execution_count": null,
   "id": "9c2f7451",
   "metadata": {},
   "outputs": [],
   "source": []
  },
  {
   "cell_type": "code",
   "execution_count": 4,
   "id": "102288ee",
   "metadata": {},
   "outputs": [],
   "source": [
    "from configs import add_args, set_seed, set_dist\n",
    "from utils import get_filenames, get_elapse_time, load_and_cache_gen_data\n"
   ]
  },
  {
   "cell_type": "code",
   "execution_count": 5,
   "id": "5c9be1c9",
   "metadata": {},
   "outputs": [],
   "source": [
    "class Args:\n",
    "    do_test = True\n",
    "    model_type = \"codet5\"\n",
    "    config_name \"Salesforce/codet5-base\" \n",
    "    tokenizer_name = \"Salesforce/codet5-base\"\n",
    "    model_name_or_path = \"Salesforce/codet5-base\"\n",
    "    load_model_path = \"/home/shariff/AVATAR/codet5/program/java2python/checkpoint-best-ppl/pytorch_model.bin\"\n",
    "    task = \"translate\"\n",
    "    sub_task = \"java-python\"\n",
    "    data_dir = \"/home/shariff/AVATAR/data\"\n",
    "    cache_path = \"/home/shariff/AVATAR/codet5/program/java2python\"\n",
    "    output_dir = \"/home/shariff/AVATAR/codet5/program/java2python\"\n",
    "    res_dir = \"/home/shariff/AVATAR/codet5/program/java2python\"\n",
    "    max_source_length = 510 \\\n",
    "    max_target_length = 510 \\\n",
    "    beam_size = 10\n",
    "    eval_batch_size = 8\n",
    "    \n",
    "args = Args()"
   ]
  },
  {
   "cell_type": "code",
   "execution_count": 6,
   "id": "ffea4597",
   "metadata": {},
   "outputs": [],
   "source": [
    "set_dist(args)\n",
    "set_seed(args)\n",
    "config, model, tokenizer = build_or_load_gen_model(args)\n",
    "model.to(args.device)\n",
    "pool = multiprocessing.Pool(args.cpu_cont)\n",
    "args.train_filename, args.dev_filename, args.test_filename = get_filenames(args.data_dir, args.task, args.sub_task)\n",
    "fa = open(os.path.join(args.output_dir, 'summary.log'), 'a+')\n"
   ]
  },
  {
   "cell_type": "code",
   "execution_count": null,
   "id": "4d35fc03",
   "metadata": {},
   "outputs": [],
   "source": []
  }
 ],
 "metadata": {
  "kernelspec": {
   "display_name": "Python 3 (ipykernel)",
   "language": "python",
   "name": "python3"
  },
  "language_info": {
   "codemirror_mode": {
    "name": "ipython",
    "version": 3
   },
   "file_extension": ".py",
   "mimetype": "text/x-python",
   "name": "python",
   "nbconvert_exporter": "python",
   "pygments_lexer": "ipython3",
   "version": "3.8.13"
  }
 },
 "nbformat": 4,
 "nbformat_minor": 5
}

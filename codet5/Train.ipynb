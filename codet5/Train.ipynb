{
 "cells": [
  {
   "cell_type": "code",
   "execution_count": 1,
   "id": "5ab7ec11",
   "metadata": {},
   "outputs": [],
   "source": [
    "import os\n",
    "os.environ[\"CUDA_VISIBLE_DEVICES\"]=\"2\""
   ]
  },
  {
   "cell_type": "code",
   "execution_count": 2,
   "id": "226911dc",
   "metadata": {},
   "outputs": [],
   "source": [
    "!python3 ../data/split.py --src_dir /home/shariff/AVATAR/data --out_dir /home/shariff/AVATAR/data --fn 'prepare' --k 5"
   ]
  },
  {
   "cell_type": "code",
   "execution_count": 3,
   "id": "015d9eff",
   "metadata": {
    "scrolled": true
   },
   "outputs": [],
   "source": [
    "!bash run.sh 2 java python"
   ]
  },
  {
   "cell_type": "code",
   "execution_count": 4,
   "id": "2f1b99ce",
   "metadata": {},
   "outputs": [],
   "source": [
    "# !pip3 uninstall -y apex"
   ]
  },
  {
   "cell_type": "code",
   "execution_count": null,
   "id": "ce48f3eb",
   "metadata": {},
   "outputs": [],
   "source": []
  }
 ],
 "metadata": {
  "kernelspec": {
   "display_name": "Python 3 (ipykernel)",
   "language": "python",
   "name": "python3"
  },
  "language_info": {
   "codemirror_mode": {
    "name": "ipython",
    "version": 3
   },
   "file_extension": ".py",
   "mimetype": "text/x-python",
   "name": "python",
   "nbconvert_exporter": "python",
   "pygments_lexer": "ipython3",
   "version": "3.8.13"
  }
 },
 "nbformat": 4,
 "nbformat_minor": 5
}

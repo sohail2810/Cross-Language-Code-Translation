{
 "cells": [
  {
   "cell_type": "code",
   "execution_count": 1,
   "id": "49c2bc58",
   "metadata": {},
   "outputs": [],
   "source": [
    "import os \n",
    "os.environ[\"CUDA_VISIBLE_DEVICES\"]=\"0\""
   ]
  },
  {
   "cell_type": "code",
   "execution_count": null,
   "id": "f6d3b9ef",
   "metadata": {
    "scrolled": true
   },
   "outputs": [
    {
     "name": "stdout",
     "output_type": "stream",
     "text": [
      "Source: java Target: python\n",
      "[W socket.cpp:426] [c10d] The server socket has failed to bind to [::]:29500 (errno: 98 - Address already in use).\n",
      "[W socket.cpp:426] [c10d] The server socket has failed to bind to ?UNKNOWN? (errno: 98 - Address already in use).\n",
      "[E socket.cpp:462] [c10d] The server socket has failed to listen on any local network address.\n",
      "Traceback (most recent call last):\n",
      "  File \"/home/shariff/.local/bin/torchrun\", line 8, in <module>\n",
      "    sys.exit(main())\n",
      "  File \"/home/shariff/.local/lib/python3.8/site-packages/torch/distributed/elastic/multiprocessing/errors/__init__.py\", line 346, in wrapper\n",
      "    return f(*args, **kwargs)\n",
      "  File \"/home/shariff/.local/lib/python3.8/site-packages/torch/distributed/run.py\", line 794, in main\n",
      "    run(args)\n",
      "  File \"/home/shariff/.local/lib/python3.8/site-packages/torch/distributed/run.py\", line 785, in run\n",
      "    elastic_launch(\n",
      "  File \"/home/shariff/.local/lib/python3.8/site-packages/torch/distributed/launcher/api.py\", line 134, in __call__\n",
      "    return launch_agent(self._config, self._entrypoint, list(args))\n",
      "  File \"/home/shariff/.local/lib/python3.8/site-packages/torch/distributed/launcher/api.py\", line 241, in launch_agent\n",
      "    result = agent.run()\n",
      "  File \"/home/shariff/.local/lib/python3.8/site-packages/torch/distributed/elastic/metrics/api.py\", line 129, in wrapper\n",
      "    result = f(*args, **kwargs)\n",
      "  File \"/home/shariff/.local/lib/python3.8/site-packages/torch/distributed/elastic/agent/server/api.py\", line 723, in run\n",
      "    result = self._invoke_run(role)\n",
      "  File \"/home/shariff/.local/lib/python3.8/site-packages/torch/distributed/elastic/agent/server/api.py\", line 858, in _invoke_run\n",
      "    self._initialize_workers(self._worker_group)\n",
      "  File \"/home/shariff/.local/lib/python3.8/site-packages/torch/distributed/elastic/metrics/api.py\", line 129, in wrapper\n",
      "    result = f(*args, **kwargs)\n",
      "  File \"/home/shariff/.local/lib/python3.8/site-packages/torch/distributed/elastic/agent/server/api.py\", line 692, in _initialize_workers\n",
      "    self._rendezvous(worker_group)\n",
      "  File \"/home/shariff/.local/lib/python3.8/site-packages/torch/distributed/elastic/metrics/api.py\", line 129, in wrapper\n",
      "    result = f(*args, **kwargs)\n",
      "  File \"/home/shariff/.local/lib/python3.8/site-packages/torch/distributed/elastic/agent/server/api.py\", line 546, in _rendezvous\n",
      "    store, group_rank, group_world_size = spec.rdzv_handler.next_rendezvous()\n",
      "  File \"/home/shariff/.local/lib/python3.8/site-packages/torch/distributed/elastic/rendezvous/static_tcp_rendezvous.py\", line 55, in next_rendezvous\n",
      "    self._store = TCPStore(  # type: ignore[call-arg]\n",
      "RuntimeError: The server socket has failed to listen on any local network address. The server socket has failed to bind to [::]:29500 (errno: 98 - Address already in use). The server socket has failed to bind to ?UNKNOWN? (errno: 98 - Address already in use).\n",
      "[W socket.cpp:426] [c10d] The server socket has failed to bind to [::]:29500 (errno: 98 - Address already in use).\n",
      "[W socket.cpp:426] [c10d] The server socket has failed to bind to ?UNKNOWN? (errno: 98 - Address already in use).\n",
      "[E socket.cpp:462] [c10d] The server socket has failed to listen on any local network address.\n",
      "Traceback (most recent call last):\n",
      "  File \"/home/shariff/.local/bin/torchrun\", line 8, in <module>\n",
      "    sys.exit(main())\n",
      "  File \"/home/shariff/.local/lib/python3.8/site-packages/torch/distributed/elastic/multiprocessing/errors/__init__.py\", line 346, in wrapper\n",
      "    return f(*args, **kwargs)\n",
      "  File \"/home/shariff/.local/lib/python3.8/site-packages/torch/distributed/run.py\", line 794, in main\n",
      "    run(args)\n",
      "  File \"/home/shariff/.local/lib/python3.8/site-packages/torch/distributed/run.py\", line 785, in run\n",
      "    elastic_launch(\n",
      "  File \"/home/shariff/.local/lib/python3.8/site-packages/torch/distributed/launcher/api.py\", line 134, in __call__\n",
      "    return launch_agent(self._config, self._entrypoint, list(args))\n",
      "  File \"/home/shariff/.local/lib/python3.8/site-packages/torch/distributed/launcher/api.py\", line 241, in launch_agent\n",
      "    result = agent.run()\n",
      "  File \"/home/shariff/.local/lib/python3.8/site-packages/torch/distributed/elastic/metrics/api.py\", line 129, in wrapper\n",
      "    result = f(*args, **kwargs)\n",
      "  File \"/home/shariff/.local/lib/python3.8/site-packages/torch/distributed/elastic/agent/server/api.py\", line 723, in run\n",
      "    result = self._invoke_run(role)\n",
      "  File \"/home/shariff/.local/lib/python3.8/site-packages/torch/distributed/elastic/agent/server/api.py\", line 858, in _invoke_run\n",
      "    self._initialize_workers(self._worker_group)\n",
      "  File \"/home/shariff/.local/lib/python3.8/site-packages/torch/distributed/elastic/metrics/api.py\", line 129, in wrapper\n",
      "    result = f(*args, **kwargs)\n",
      "  File \"/home/shariff/.local/lib/python3.8/site-packages/torch/distributed/elastic/agent/server/api.py\", line 692, in _initialize_workers\n",
      "    self._rendezvous(worker_group)\n",
      "  File \"/home/shariff/.local/lib/python3.8/site-packages/torch/distributed/elastic/metrics/api.py\", line 129, in wrapper\n",
      "    result = f(*args, **kwargs)\n",
      "  File \"/home/shariff/.local/lib/python3.8/site-packages/torch/distributed/elastic/agent/server/api.py\", line 546, in _rendezvous\n",
      "    store, group_rank, group_world_size = spec.rdzv_handler.next_rendezvous()\n",
      "  File \"/home/shariff/.local/lib/python3.8/site-packages/torch/distributed/elastic/rendezvous/static_tcp_rendezvous.py\", line 55, in next_rendezvous\n",
      "    self._store = TCPStore(  # type: ignore[call-arg]\n",
      "RuntimeError: The server socket has failed to listen on any local network address. The server socket has failed to bind to [::]:29500 (errno: 98 - Address already in use). The server socket has failed to bind to ?UNKNOWN? (errno: 98 - Address already in use).\n",
      "adding to path /home/shariff/AVATAR\n",
      "Lang java matched to pretrained java lang embedding.\n",
      "Lang python matched to pretrained python lang embedding.\n",
      "Lang java matched to pretrained java lang embedding.\n",
      "Lang python matched to pretrained python lang embedding.\n",
      "Loading codes from /home/shariff/AVATAR/codegen/bpe/cpp-java-python/codes ...\n",
      "Read 50000 codes from the codes file.\n",
      "  0%|▏                                        | 1/238 [00:24<1:38:15, 24.87s/it]"
     ]
    }
   ],
   "source": [
    "!bash run.sh java python transcoder-dobf"
   ]
  },
  {
   "cell_type": "code",
   "execution_count": null,
   "id": "de7d725e",
   "metadata": {},
   "outputs": [],
   "source": []
  }
 ],
 "metadata": {
  "kernelspec": {
   "display_name": "Python 3 (ipykernel)",
   "language": "python",
   "name": "python3"
  },
  "language_info": {
   "codemirror_mode": {
    "name": "ipython",
    "version": 3
   },
   "file_extension": ".py",
   "mimetype": "text/x-python",
   "name": "python",
   "nbconvert_exporter": "python",
   "pygments_lexer": "ipython3",
   "version": "3.8.10"
  }
 },
 "nbformat": 4,
 "nbformat_minor": 5
}
